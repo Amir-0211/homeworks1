{
 "cells": [
  {
   "cell_type": "code",
   "execution_count": null,
   "metadata": {},
   "outputs": [
    {
     "name": "stdout",
     "output_type": "stream",
     "text": [
      "[0. 0. 0. 0. 1. 0. 0. 0. 0. 0.]\n"
     ]
    }
   ],
   "source": [
    "##1\n",
    "\n",
    "\n",
    "\n",
    "\n",
    "\n",
    "import numpy as np\n",
    "arr = np.zeros(10)\n",
    "arr[4] = 1\n",
    "print(arr)"
   ]
  },
  {
   "cell_type": "code",
   "execution_count": 2,
   "metadata": {},
   "outputs": [
    {
     "name": "stdout",
     "output_type": "stream",
     "text": [
      "[10 11 12 13 14 15 16 17 18 19 20 21 22 23 24 25 26 27 28 29 30 31 32 33\n",
      " 34 35 36 37 38 39 40 41 42 43 44 45 46 47 48 49]\n"
     ]
    }
   ],
   "source": [
    "##2\n",
    "\n",
    "\n",
    "\n",
    "\n",
    "import numpy as np\n",
    "arr = np.arange(10, 50)\n",
    "print(arr)"
   ]
  },
  {
   "cell_type": "code",
   "execution_count": 3,
   "metadata": {},
   "outputs": [
    {
     "name": "stdout",
     "output_type": "stream",
     "text": [
      "[49 48 47 46 45 44 43 42 41 40 39 38 37 36 35 34 33 32 31 30 29 28 27 26\n",
      " 25 24 23 22 21 20 19 18 17 16 15 14 13 12 11 10]\n"
     ]
    }
   ],
   "source": [
    "##3\n",
    "\n",
    "\n",
    "\n",
    "\n",
    "\n",
    "import numpy as np\n",
    "arr = np.arange(10, 50)\n",
    "reversed_arr = arr[::-1]\n",
    "print(reversed_arr)\n"
   ]
  },
  {
   "cell_type": "code",
   "execution_count": 4,
   "metadata": {},
   "outputs": [
    {
     "name": "stdout",
     "output_type": "stream",
     "text": [
      "[[0 1 2]\n",
      " [3 4 5]\n",
      " [6 7 8]]\n"
     ]
    }
   ],
   "source": [
    "##4\n",
    "\n",
    "\n",
    "\n",
    "\n",
    "\n",
    "import numpy as np\n",
    "matrix = np.arange(9).reshape(3, 3)\n",
    "print(matrix)\n"
   ]
  },
  {
   "cell_type": "code",
   "execution_count": 5,
   "metadata": {},
   "outputs": [
    {
     "name": "stdout",
     "output_type": "stream",
     "text": [
      "[0 1 4]\n"
     ]
    }
   ],
   "source": [
    "##5\n",
    "\n",
    "\n",
    "\n",
    "\n",
    "\n",
    "\n",
    "import numpy as np\n",
    "arr = np.array([1, 2, 0, 0, 4, 0])\n",
    "non_zero_indices = np.nonzero(arr)\n",
    "print(non_zero_indices[0]) \n"
   ]
  },
  {
   "cell_type": "code",
   "execution_count": 6,
   "metadata": {},
   "outputs": [
    {
     "name": "stdout",
     "output_type": "stream",
     "text": [
      "[[1. 0. 0.]\n",
      " [0. 1. 0.]\n",
      " [0. 0. 1.]]\n"
     ]
    }
   ],
   "source": [
    "##6\n",
    "\n",
    "\n",
    "\n",
    "\n",
    "\n",
    "\n",
    "\n",
    "import numpy as np\n",
    "identity_matrix = np.eye(3)\n",
    "print(identity_matrix)\n"
   ]
  },
  {
   "cell_type": "code",
   "execution_count": 7,
   "metadata": {},
   "outputs": [
    {
     "name": "stdout",
     "output_type": "stream",
     "text": [
      "Random 3x3 Matrix:\n",
      "[[0.44706353 0.89178934 0.11578427]\n",
      " [0.64755427 0.99482359 0.14426462]\n",
      " [0.99672091 0.33373749 0.04939463]]\n",
      "\n",
      "Minimum Value: 0.04939462955058882\n",
      "Maximum Value: 0.9967209116062262\n"
     ]
    }
   ],
   "source": [
    "##7\n",
    "\n",
    "\n",
    "\n",
    "\n",
    "\n",
    "\n",
    "\n",
    "import numpy as np\n",
    "\n",
    "random_matrix = np.random.rand(3, 3)\n",
    "min_value = random_matrix.min()\n",
    "max_value = random_matrix.max()\n",
    "print(\"Random 3x3 Matrix:\")\n",
    "print(random_matrix)\n",
    "print(\"\\nMinimum Value:\", min_value)\n",
    "print(\"Maximum Value:\", max_value)\n"
   ]
  },
  {
   "cell_type": "code",
   "execution_count": 8,
   "metadata": {},
   "outputs": [
    {
     "name": "stdout",
     "output_type": "stream",
     "text": [
      "Original 5x5 Random Matrix:\n",
      "[[0.51787992 0.16940094 0.80360668 0.74937881 0.22984072]\n",
      " [0.08057182 0.21826047 0.95103772 0.06383071 0.18830554]\n",
      " [0.05163238 0.13145714 0.36703029 0.61626709 0.64897332]\n",
      " [0.81299794 0.82643411 0.10735095 0.22790178 0.32784284]\n",
      " [0.44671137 0.0672271  0.13666138 0.55667272 0.51455595]]\n",
      "\n",
      "Normalized 5x5 Matrix:\n",
      "[[0.51839535 0.13094048 0.83607943 0.7757864  0.19814019]\n",
      " [0.0321762  0.18526474 1.         0.01356266 0.15195947]\n",
      " [0.         0.08875282 0.35067383 0.6277867  0.66415098]\n",
      " [0.84652106 0.86146001 0.06195045 0.19598438 0.30710343]\n",
      " [0.43926689 0.01733893 0.09453914 0.56152695 0.5146996 ]]\n"
     ]
    }
   ],
   "source": [
    "##8\n",
    "\n",
    "\n",
    "\n",
    "\n",
    "\n",
    "\n",
    "\n",
    "import numpy as np\n",
    "\n",
    "random_matrix = np.random.rand(5, 5)\n",
    "normalized_matrix = (random_matrix - random_matrix.min()) / (random_matrix.max() - random_matrix.min())\n",
    "print(\"Original 5x5 Random Matrix:\")\n",
    "print(random_matrix)\n",
    "print(\"\\nNormalized 5x5 Matrix:\")\n",
    "print(normalized_matrix)\n"
   ]
  },
  {
   "cell_type": "code",
   "execution_count": 9,
   "metadata": {},
   "outputs": [
    {
     "name": "stdout",
     "output_type": "stream",
     "text": [
      "Closest value to 14 is 15\n"
     ]
    }
   ],
   "source": [
    "##9\n",
    "\n",
    "\n",
    "\n",
    "\n",
    "\n",
    "\n",
    "\n",
    "import numpy as np\n",
    "\n",
    "array = np.array([1, 3, 5, 11, 15, 20, 25])\n",
    "target = 14\n",
    "closest_value = array[np.abs(array - target).argmin()]\n",
    "print(\"Closest value to\", target, \"is\", closest_value)\n"
   ]
  },
  {
   "cell_type": "code",
   "execution_count": 10,
   "metadata": {},
   "outputs": [
    {
     "name": "stdout",
     "output_type": "stream",
     "text": [
      "Updated array:\n",
      "[[ 5  0  3]\n",
      " [10  2  0]\n",
      " [ 6  7  0]]\n"
     ]
    }
   ],
   "source": [
    "##10\n",
    "\n",
    "\n",
    "\n",
    "\n",
    "\n",
    "\n",
    "\n",
    "import numpy as np\n",
    "\n",
    "array = np.array([[5, 9, 3], [10, 2, 15], [6, 7, 8]])\n",
    "\n",
    "for i in range(array.shape[0]):\n",
    "    max_index = array[i].argmax() \n",
    "    array[i, max_index] = 0       \n",
    "print(\"Updated array:\")\n",
    "print(array)\n"
   ]
  },
  {
   "cell_type": "code",
   "execution_count": 11,
   "metadata": {},
   "outputs": [
    {
     "name": "stdout",
     "output_type": "stream",
     "text": [
      "Most common value: 5\n"
     ]
    }
   ],
   "source": [
    "##11\n",
    "\n",
    "\n",
    "\n",
    "\n",
    "\n",
    "\n",
    "import numpy as np\n",
    "from collections import Counter\n",
    "\n",
    "array = np.array([2, 3, 2, 5, 8, 3, 3, 7, 2, 3, 5, 5, 5, 5])\n",
    "most_common_value = Counter(array).most_common(1)[0][0]\n",
    "print(\"Most common value:\", most_common_value)\n"
   ]
  },
  {
   "cell_type": "code",
   "execution_count": 12,
   "metadata": {},
   "outputs": [
    {
     "name": "stdout",
     "output_type": "stream",
     "text": [
      "Matrix product of the array and its transpose:\n",
      "[[ 14  32  50]\n",
      " [ 32  77 122]\n",
      " [ 50 122 194]]\n"
     ]
    }
   ],
   "source": [
    "##12\n",
    "\n",
    "\n",
    "\n",
    "\n",
    "\n",
    "\n",
    "\n",
    "import numpy as np\n",
    "\n",
    "array = np.array([[1, 2, 3], [4, 5, 6], [7, 8, 9]])\n",
    "transpose = array.T\n",
    "matrix_product = np.dot(array, transpose)\n",
    "print(\"Matrix product of the array and its transpose:\")\n",
    "print(matrix_product)\n"
   ]
  },
  {
   "cell_type": "code",
   "execution_count": 13,
   "metadata": {},
   "outputs": [
    {
     "name": "stdout",
     "output_type": "stream",
     "text": [
      "Determinant of the matrix: -306.0\n"
     ]
    }
   ],
   "source": [
    "##13\n",
    "\n",
    "\n",
    "\n",
    "\n",
    "\n",
    "\n",
    "\n",
    "import numpy as np\n",
    "\n",
    "matrix = np.array([[6, 1, 1], [4, -2, 5], [2, 8, 7]])\n",
    "determinant = np.linalg.det(matrix)\n",
    "print(\"Determinant of the matrix:\", determinant)\n"
   ]
  },
  {
   "cell_type": "code",
   "execution_count": 14,
   "metadata": {},
   "outputs": [
    {
     "name": "stdout",
     "output_type": "stream",
     "text": [
      "Inverse of the matrix:\n",
      "[[-24.  18.   5.]\n",
      " [ 20. -15.  -4.]\n",
      " [ -5.   4.   1.]]\n"
     ]
    }
   ],
   "source": [
    "##14\n",
    "\n",
    "\n",
    "\n",
    "\n",
    "\n",
    "\n",
    "\n",
    "import numpy as np\n",
    "\n",
    "matrix = np.array([[1, 2, 3], [0, 1, 4], [5, 6, 0]])\n",
    "\n",
    "determinant = np.linalg.det(matrix)\n",
    "if determinant == 0:\n",
    "    print(\"The matrix is not invertible (determinant is zero).\")\n",
    "else:\n",
    "    inverse = np.linalg.inv(matrix)\n",
    "    print(\"Inverse of the matrix:\")\n",
    "    print(inverse)\n"
   ]
  }
 ],
 "metadata": {
  "kernelspec": {
   "display_name": "Python 3",
   "language": "python",
   "name": "python3"
  },
  "language_info": {
   "codemirror_mode": {
    "name": "ipython",
    "version": 3
   },
   "file_extension": ".py",
   "mimetype": "text/x-python",
   "name": "python",
   "nbconvert_exporter": "python",
   "pygments_lexer": "ipython3",
   "version": "3.13.0"
  }
 },
 "nbformat": 4,
 "nbformat_minor": 2
}
