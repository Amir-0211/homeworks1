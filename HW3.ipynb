{
 "cells": [
  {
   "cell_type": "markdown",
   "metadata": {},
   "source": [
    "List Tasks"
   ]
  },
  {
   "cell_type": "code",
   "execution_count": 1,
   "metadata": {},
   "outputs": [
    {
     "name": "stdout",
     "output_type": "stream",
     "text": [
      "2\n"
     ]
    }
   ],
   "source": [
    "#1\n",
    "\n",
    "list = [1, 2, 2, 3]\n",
    "element = 2\n",
    "count = list.count(element)\n",
    "print(count)\n"
   ]
  },
  {
   "cell_type": "code",
   "execution_count": 2,
   "metadata": {},
   "outputs": [
    {
     "name": "stdout",
     "output_type": "stream",
     "text": [
      "6\n"
     ]
    }
   ],
   "source": [
    "#2\n",
    "\n",
    "list = [1, 2, 3]\n",
    "total = sum(list)\n",
    "print(total)\n"
   ]
  },
  {
   "cell_type": "code",
   "execution_count": 3,
   "metadata": {},
   "outputs": [
    {
     "name": "stdout",
     "output_type": "stream",
     "text": [
      "5\n"
     ]
    }
   ],
   "source": [
    "#3\n",
    "\n",
    "list = [1, 5, 3]\n",
    "max_value = max(list)\n",
    "print(max_value)\n"
   ]
  },
  {
   "cell_type": "code",
   "execution_count": 4,
   "metadata": {},
   "outputs": [
    {
     "name": "stdout",
     "output_type": "stream",
     "text": [
      "1\n"
     ]
    }
   ],
   "source": [
    "#4\n",
    "\n",
    "list = [1, 5, 3]\n",
    "min_value = min(list) \n",
    "print(min_value)\n"
   ]
  },
  {
   "cell_type": "code",
   "execution_count": 5,
   "metadata": {},
   "outputs": [
    {
     "name": "stdout",
     "output_type": "stream",
     "text": [
      "True\n"
     ]
    }
   ],
   "source": [
    "#5\n",
    "\n",
    "list = [1, 2, 3]\n",
    "element = 2\n",
    "check = element in list\n",
    "print(check)\n"
   ]
  },
  {
   "cell_type": "code",
   "execution_count": 6,
   "metadata": {},
   "outputs": [
    {
     "name": "stdout",
     "output_type": "stream",
     "text": [
      "1\n"
     ]
    }
   ],
   "source": [
    "#6\n",
    "\n",
    "list = [1, 2, 3]\n",
    "first = list[0]\n",
    "print(first)\n"
   ]
  },
  {
   "cell_type": "code",
   "execution_count": 7,
   "metadata": {},
   "outputs": [
    {
     "name": "stdout",
     "output_type": "stream",
     "text": [
      "3\n"
     ]
    }
   ],
   "source": [
    "#7\n",
    "\n",
    "list = [1, 2, 3]\n",
    "last = list[-1]\n",
    "print(last)\n"
   ]
  },
  {
   "cell_type": "code",
   "execution_count": 8,
   "metadata": {},
   "outputs": [
    {
     "name": "stdout",
     "output_type": "stream",
     "text": [
      "[1, 2, 3]\n"
     ]
    }
   ],
   "source": [
    "#8\n",
    "\n",
    "list = [1, 2, 3, 4]\n",
    "sliced = list[:3]\n",
    "print(sliced)\n"
   ]
  },
  {
   "cell_type": "code",
   "execution_count": 9,
   "metadata": {},
   "outputs": [
    {
     "name": "stdout",
     "output_type": "stream",
     "text": [
      "[3, 2, 1]\n"
     ]
    }
   ],
   "source": [
    "#9\n",
    "\n",
    "list = [1, 2, 3]\n",
    "reversed = list[::-1]\n",
    "print(reversed)\n"
   ]
  },
  {
   "cell_type": "code",
   "execution_count": 10,
   "metadata": {},
   "outputs": [
    {
     "name": "stdout",
     "output_type": "stream",
     "text": [
      "[1, 2, 3]\n"
     ]
    }
   ],
   "source": [
    "#10\n",
    "\n",
    "list = [3, 1, 2]\n",
    "sorted = sorted(list)\n",
    "print(sorted)\n"
   ]
  },
  {
   "cell_type": "code",
   "execution_count": 11,
   "metadata": {},
   "outputs": [
    {
     "name": "stdout",
     "output_type": "stream",
     "text": [
      "[1, 2, 3]\n"
     ]
    }
   ],
   "source": [
    "#11\n",
    "\n",
    "list = [1, 2, 2, 3, 1]\n",
    "unique = []\n",
    "for element in list:\n",
    "    if element not in unique:\n",
    "        unique.append(element)\n",
    "print(unique)\n",
    "\n"
   ]
  },
  {
   "cell_type": "code",
   "execution_count": 12,
   "metadata": {},
   "outputs": [
    {
     "name": "stdout",
     "output_type": "stream",
     "text": [
      "[1, 5, 2, 3]\n"
     ]
    }
   ],
   "source": [
    "#12\n",
    "\n",
    "list = [1, 2, 3]\n",
    "index = 1\n",
    "element = 5\n",
    "list.insert(index, element)\n",
    "print(list)\n"
   ]
  },
  {
   "cell_type": "code",
   "execution_count": 13,
   "metadata": {},
   "outputs": [
    {
     "name": "stdout",
     "output_type": "stream",
     "text": [
      "1\n"
     ]
    }
   ],
   "source": [
    "#13\n",
    "\n",
    "list = [1, 2, 3]\n",
    "element = 2\n",
    "index = list.index(element)\n",
    "print(index)\n"
   ]
  },
  {
   "cell_type": "code",
   "execution_count": 14,
   "metadata": {},
   "outputs": [
    {
     "name": "stdout",
     "output_type": "stream",
     "text": [
      "True\n"
     ]
    }
   ],
   "source": [
    "#14\n",
    "\n",
    "list = []\n",
    "is_empty = len(list) == 0\n",
    "print(is_empty)\n"
   ]
  },
  {
   "cell_type": "code",
   "execution_count": 15,
   "metadata": {},
   "outputs": [
    {
     "name": "stdout",
     "output_type": "stream",
     "text": [
      "2\n"
     ]
    }
   ],
   "source": [
    "#15\n",
    "\n",
    "list = [1, 2, 3, 4]\n",
    "even = sum(1 for x in list if x % 2 == 0)\n",
    "print(even)\n"
   ]
  },
  {
   "cell_type": "code",
   "execution_count": 16,
   "metadata": {},
   "outputs": [
    {
     "name": "stdout",
     "output_type": "stream",
     "text": [
      "2\n"
     ]
    }
   ],
   "source": [
    "#16\n",
    "\n",
    "list = [1, 2, 3, 4]\n",
    "odd = sum(1 for x in list if x % 2 != 0)\n",
    "print(odd)\n"
   ]
  },
  {
   "cell_type": "code",
   "execution_count": 17,
   "metadata": {},
   "outputs": [
    {
     "name": "stdout",
     "output_type": "stream",
     "text": [
      "[1, 2, 3, 4]\n"
     ]
    }
   ],
   "source": [
    "#17\n",
    "\n",
    "list1 = [1, 2]\n",
    "list2 = [3, 4]\n",
    "concat = list1 + list2\n",
    "print(concat)\n"
   ]
  },
  {
   "cell_type": "code",
   "execution_count": 18,
   "metadata": {},
   "outputs": [
    {
     "name": "stdout",
     "output_type": "stream",
     "text": [
      "True\n"
     ]
    }
   ],
   "source": [
    "#18\n",
    "\n",
    "list = [1, 2, 3, 4]\n",
    "sub = [2, 3]\n",
    "exists = any(list[i:i+len(sub)] == sub for i in range(len(list) - len(sub) + 1))\n",
    "print(exists)\n"
   ]
  },
  {
   "cell_type": "code",
   "execution_count": 19,
   "metadata": {},
   "outputs": [
    {
     "name": "stdout",
     "output_type": "stream",
     "text": [
      "[1, 5, 3]\n"
     ]
    }
   ],
   "source": [
    "#19\n",
    "\n",
    "list = [1, 2, 3]\n",
    "old, new = 2, 5\n",
    "if old in list:\n",
    "    list[list.index(old)] = new\n",
    "print(list)\n"
   ]
  },
  {
   "cell_type": "code",
   "execution_count": 8,
   "metadata": {},
   "outputs": [
    {
     "name": "stdout",
     "output_type": "stream",
     "text": [
      "3\n"
     ]
    }
   ],
   "source": [
    "#20\n",
    "\n",
    "lst = [1, 2, 3, 4]\n",
    "unique = sorted(set(lst), reverse=True)\n",
    "sec_largest = unique[1] if len(unique) > 1 else None\n",
    "print(sec_largest)\n",
    "\n"
   ]
  },
  {
   "cell_type": "code",
   "execution_count": 1,
   "metadata": {},
   "outputs": [
    {
     "name": "stdout",
     "output_type": "stream",
     "text": [
      "2\n"
     ]
    }
   ],
   "source": [
    "#21\n",
    "\n",
    "l = [1, 2, 3, 4]\n",
    "unique = sorted(set(l))\n",
    "second = unique[1] if len(unique) > 1 else None\n",
    "print(second)\n"
   ]
  },
  {
   "cell_type": "code",
   "execution_count": 33,
   "metadata": {},
   "outputs": [
    {
     "name": "stdout",
     "output_type": "stream",
     "text": [
      "[2, 4]\n"
     ]
    }
   ],
   "source": [
    "#22\n",
    "\n",
    "list = [1, 2, 3, 4]\n",
    "evens = [x for x in list if x % 2 == 0]\n",
    "print(evens)\n"
   ]
  },
  {
   "cell_type": "code",
   "execution_count": 34,
   "metadata": {},
   "outputs": [
    {
     "name": "stdout",
     "output_type": "stream",
     "text": [
      "[1, 3]\n"
     ]
    }
   ],
   "source": [
    "#23\n",
    "\n",
    "list = [1, 2, 3, 4]\n",
    "odds = [x for x in list if x % 2 != 0]\n",
    "print(odds)\n"
   ]
  },
  {
   "cell_type": "code",
   "execution_count": 35,
   "metadata": {},
   "outputs": [
    {
     "name": "stdout",
     "output_type": "stream",
     "text": [
      "3\n"
     ]
    }
   ],
   "source": [
    "#24\n",
    "\n",
    "list = [1, 2, 3]\n",
    "length = len(list)\n",
    "print(length)\n"
   ]
  },
  {
   "cell_type": "code",
   "execution_count": 36,
   "metadata": {},
   "outputs": [
    {
     "name": "stdout",
     "output_type": "stream",
     "text": [
      "[1, 2, 3]\n"
     ]
    }
   ],
   "source": [
    "#25\n",
    "\n",
    "list = [1, 2, 3]\n",
    "copy = list[:]\n",
    "print(copy)\n"
   ]
  },
  {
   "cell_type": "code",
   "execution_count": 37,
   "metadata": {},
   "outputs": [
    {
     "name": "stdout",
     "output_type": "stream",
     "text": [
      "[2, 3]\n"
     ]
    }
   ],
   "source": [
    "#26\n",
    "\n",
    "list = [1, 2, 3, 4]\n",
    "n = len(list)\n",
    "middle = list[n // 2] if n % 2 != 0 else list[n // 2 - 1:n // 2 + 1]\n",
    "print(middle)\n"
   ]
  },
  {
   "cell_type": "code",
   "execution_count": 38,
   "metadata": {},
   "outputs": [
    {
     "name": "stdout",
     "output_type": "stream",
     "text": [
      "5\n"
     ]
    }
   ],
   "source": [
    "#27\n",
    "\n",
    "list = [1, 2, 3, 4]\n",
    "start, end = 1, 3\n",
    "max = max(list[start:end+1])\n",
    "print(max_value)\n"
   ]
  },
  {
   "cell_type": "code",
   "execution_count": 39,
   "metadata": {},
   "outputs": [
    {
     "name": "stdout",
     "output_type": "stream",
     "text": [
      "1\n"
     ]
    }
   ],
   "source": [
    "#28\n",
    "\n",
    "list = [1, 2, 3, 4]\n",
    "start, end = 1, 3\n",
    "min = min(list[start:end+1])\n",
    "print(min_value)\n"
   ]
  },
  {
   "cell_type": "code",
   "execution_count": 40,
   "metadata": {},
   "outputs": [
    {
     "name": "stdout",
     "output_type": "stream",
     "text": [
      "[1, 3]\n"
     ]
    }
   ],
   "source": [
    "#29\n",
    "\n",
    "list = [1, 2, 3]\n",
    "index = 1\n",
    "if 0 <= index < len(list):\n",
    "    list.pop(index)\n",
    "print(list)\n"
   ]
  },
  {
   "cell_type": "code",
   "execution_count": 2,
   "metadata": {},
   "outputs": [
    {
     "name": "stdout",
     "output_type": "stream",
     "text": [
      "True\n"
     ]
    }
   ],
   "source": [
    "#30\n",
    "\n",
    "lst = [1, 2, 3]\n",
    "sort = lst == sorted(lst)\n",
    "print(sort)\n"
   ]
  },
  {
   "cell_type": "code",
   "execution_count": 48,
   "metadata": {},
   "outputs": [
    {
     "name": "stdout",
     "output_type": "stream",
     "text": [
      "[1, 2, 1, 2, 1, 2]\n"
     ]
    }
   ],
   "source": [
    "#31\n",
    "\n",
    "list = [1, 2]\n",
    "times = 3\n",
    "repeated = list * times\n",
    "print(repeated)\n",
    "\n"
   ]
  },
  {
   "cell_type": "code",
   "execution_count": 3,
   "metadata": {},
   "outputs": [
    {
     "name": "stdout",
     "output_type": "stream",
     "text": [
      "[1, 2, 3, 4]\n"
     ]
    }
   ],
   "source": [
    "#32\n",
    "\n",
    "lst1 = [3, 1]\n",
    "lst2 = [4, 2]\n",
    "merg = sorted(lst1 + lst2)\n",
    "print(merg)\n"
   ]
  },
  {
   "cell_type": "code",
   "execution_count": 50,
   "metadata": {},
   "outputs": [
    {
     "name": "stdout",
     "output_type": "stream",
     "text": [
      "[1, 3]\n"
     ]
    }
   ],
   "source": [
    "#33\n",
    "\n",
    "l = [1, 2, 3, 2]\n",
    "element = 2\n",
    "indices = [i for i, x in enumerate(l) if x == element]\n",
    "print(indices)\n"
   ]
  },
  {
   "cell_type": "code",
   "execution_count": 52,
   "metadata": {},
   "outputs": [
    {
     "name": "stdout",
     "output_type": "stream",
     "text": [
      "[3, 4, 1, 2]\n"
     ]
    }
   ],
   "source": [
    "#34\n",
    "\n",
    "list = [1, 2, 3, 4]\n",
    "k = 2\n",
    "rotation = list[-k:] + list[:-k]\n",
    "print(rotation)\n"
   ]
  },
  {
   "cell_type": "code",
   "execution_count": 2,
   "metadata": {},
   "outputs": [
    {
     "name": "stdout",
     "output_type": "stream",
     "text": [
      "[1, 2, 3, 4, 5]\n"
     ]
    }
   ],
   "source": [
    "#35\n",
    "\n",
    "start, end = 1, 5\n",
    "range = list(range(start, end + 1))\n",
    "print(range)\n"
   ]
  },
  {
   "cell_type": "code",
   "execution_count": 54,
   "metadata": {},
   "outputs": [
    {
     "name": "stdout",
     "output_type": "stream",
     "text": [
      "5\n"
     ]
    }
   ],
   "source": [
    "#36\n",
    "\n",
    "list = [-1, 2, 3]\n",
    "positive_sum = sum(x for x in list if x > 0)\n",
    "print(positive_sum)\n"
   ]
  },
  {
   "cell_type": "code",
   "execution_count": 55,
   "metadata": {},
   "outputs": [
    {
     "name": "stdout",
     "output_type": "stream",
     "text": [
      "-4\n"
     ]
    }
   ],
   "source": [
    "#37\n",
    "\n",
    "list = [-1, 2, -3]\n",
    "negative_sum = sum(x for x in list if x < 0)\n",
    "print(negative_sum)\n"
   ]
  },
  {
   "cell_type": "code",
   "execution_count": 56,
   "metadata": {},
   "outputs": [
    {
     "name": "stdout",
     "output_type": "stream",
     "text": [
      "True\n"
     ]
    }
   ],
   "source": [
    "#38\n",
    "\n",
    "list = [1, 2, 1]\n",
    "palindrome = list == list[::-1]\n",
    "print(palindrome)\n"
   ]
  },
  {
   "cell_type": "code",
   "execution_count": 57,
   "metadata": {},
   "outputs": [
    {
     "name": "stdout",
     "output_type": "stream",
     "text": [
      "[[1, 2], [3, 4]]\n"
     ]
    }
   ],
   "source": [
    "#39\n",
    "\n",
    "list = [1, 2, 3, 4]\n",
    "n = 2\n",
    "nested = [list[i:i + n] for i in range(0, len(list), n)]\n",
    "print(nested)\n"
   ]
  },
  {
   "cell_type": "code",
   "execution_count": 58,
   "metadata": {},
   "outputs": [
    {
     "name": "stdout",
     "output_type": "stream",
     "text": [
      "[1, 2, 3]\n"
     ]
    }
   ],
   "source": [
    "#40\n",
    "\n",
    "list = [1, 2, 2, 3]\n",
    "seen = set()\n",
    "unique = [x for x in list if not (x in seen or seen.add(x))]\n",
    "print(unique)\n"
   ]
  },
  {
   "cell_type": "markdown",
   "metadata": {},
   "source": [
    "Tuple Tasks\n"
   ]
  },
  {
   "cell_type": "code",
   "execution_count": 59,
   "metadata": {},
   "outputs": [
    {
     "name": "stdout",
     "output_type": "stream",
     "text": [
      "3\n"
     ]
    }
   ],
   "source": [
    "#1\n",
    "\n",
    "tuple = (1, 2, 3, 2, 4, 2)\n",
    "element = 2\n",
    "count = tuple.count(element)\n",
    "print(count)\n"
   ]
  },
  {
   "cell_type": "code",
   "execution_count": 3,
   "metadata": {},
   "outputs": [
    {
     "name": "stdout",
     "output_type": "stream",
     "text": [
      "8\n"
     ]
    }
   ],
   "source": [
    "#2\n",
    "\n",
    "tup = (5, 3, 8, 2)\n",
    "max = max(tup)\n",
    "print(max) \n"
   ]
  },
  {
   "cell_type": "code",
   "execution_count": 4,
   "metadata": {},
   "outputs": [
    {
     "name": "stdout",
     "output_type": "stream",
     "text": [
      "2\n"
     ]
    }
   ],
   "source": [
    "#3\n",
    "\n",
    "tpl= (5, 3, 8, 2)\n",
    "min_element = min(tpl)\n",
    "print(min_element) \n"
   ]
  },
  {
   "cell_type": "code",
   "execution_count": 65,
   "metadata": {},
   "outputs": [
    {
     "name": "stdout",
     "output_type": "stream",
     "text": [
      "True\n"
     ]
    }
   ],
   "source": [
    "#4\n",
    "\n",
    "tuple_ = (1, 2, 3, 4)\n",
    "element = 3\n",
    "present = element in tuple_\n",
    "print(present)\n"
   ]
  },
  {
   "cell_type": "code",
   "execution_count": 68,
   "metadata": {},
   "outputs": [
    {
     "name": "stdout",
     "output_type": "stream",
     "text": [
      "1\n"
     ]
    }
   ],
   "source": [
    "#5\n",
    "\n",
    "tuple = (1, 2, 3)\n",
    "first = tuple[0] \n",
    "print(first)  \n"
   ]
  },
  {
   "cell_type": "code",
   "execution_count": 69,
   "metadata": {},
   "outputs": [
    {
     "name": "stdout",
     "output_type": "stream",
     "text": [
      "3\n"
     ]
    }
   ],
   "source": [
    "#6\n",
    "\n",
    "tuple = (1, 2, 3)\n",
    "last = tuple[-1]\n",
    "print(last) \n"
   ]
  },
  {
   "cell_type": "code",
   "execution_count": 70,
   "metadata": {},
   "outputs": [
    {
     "name": "stdout",
     "output_type": "stream",
     "text": [
      "3\n"
     ]
    }
   ],
   "source": [
    "#7\n",
    "\n",
    "tuple = (1, 2, 3)\n",
    "length = len(tuple)\n",
    "print(length)  \n"
   ]
  },
  {
   "cell_type": "code",
   "execution_count": 75,
   "metadata": {},
   "outputs": [
    {
     "name": "stdout",
     "output_type": "stream",
     "text": [
      "(1, 2, 3)\n"
     ]
    }
   ],
   "source": [
    "#8\n",
    "\n",
    "tuple = (1, 2, 3, 4, 5)\n",
    "sliced = tuple[:3]\n",
    "print(sliced) \n"
   ]
  },
  {
   "cell_type": "code",
   "execution_count": 76,
   "metadata": {},
   "outputs": [
    {
     "name": "stdout",
     "output_type": "stream",
     "text": [
      "(1, 2, 3, 4)\n"
     ]
    }
   ],
   "source": [
    "#9\n",
    "\n",
    "tuple1 = (1, 2)\n",
    "tuple2 = (3, 4)\n",
    "concat = tuple1 + tuple2\n",
    "print(concat)\n"
   ]
  },
  {
   "cell_type": "code",
   "execution_count": 78,
   "metadata": {},
   "outputs": [
    {
     "name": "stdout",
     "output_type": "stream",
     "text": [
      "0\n"
     ]
    }
   ],
   "source": [
    "#10\n",
    "\n",
    "tuple = ()\n",
    "empty = len(tuple)\n",
    "print(empty)\n"
   ]
  },
  {
   "cell_type": "code",
   "execution_count": 79,
   "metadata": {},
   "outputs": [
    {
     "name": "stdout",
     "output_type": "stream",
     "text": [
      "[1, 2, 4]\n"
     ]
    }
   ],
   "source": [
    "#11\n",
    "\n",
    "tuple = (1, 2, 2, 3, 2)\n",
    "element = 2\n",
    "indices = [i for i, x in enumerate(tuple) if x == element]\n",
    "print(indices) \n"
   ]
  },
  {
   "cell_type": "code",
   "execution_count": 7,
   "metadata": {},
   "outputs": [
    {
     "name": "stdout",
     "output_type": "stream",
     "text": [
      "3\n"
     ]
    }
   ],
   "source": [
    "#12\n",
    "\n",
    "tpl = (1, 3, 4, 4)\n",
    "unique = sorted(set(tpl), reverse=True)\n",
    "sec_largest = unique[1] if len(unique) >= 2 else None\n",
    "print(sec_largest) \n"
   ]
  },
  {
   "cell_type": "code",
   "execution_count": 6,
   "metadata": {},
   "outputs": [
    {
     "name": "stdout",
     "output_type": "stream",
     "text": [
      "2\n"
     ]
    }
   ],
   "source": [
    "#13\n",
    "\n",
    "tpl = (1, 3, 2, 2)\n",
    "unique = sorted(set(tpl))\n",
    "second_smallest = unique[1] if len(unique) >= 2 else None\n",
    "print(second_smallest)\n"
   ]
  },
  {
   "cell_type": "code",
   "execution_count": 84,
   "metadata": {},
   "outputs": [
    {
     "name": "stdout",
     "output_type": "stream",
     "text": [
      "5\n"
     ]
    }
   ],
   "source": [
    "#14\n",
    "\n",
    "single_tuple = (5)\n",
    "print(single_tuple) \n"
   ]
  },
  {
   "cell_type": "code",
   "execution_count": 7,
   "metadata": {},
   "outputs": [
    {
     "name": "stdout",
     "output_type": "stream",
     "text": [
      "(1, 2, 3)\n"
     ]
    }
   ],
   "source": [
    "#15\n",
    "\n",
    "l = [1, 2, 3]\n",
    "tupl = tuple(l)\n",
    "print(tupl) \n"
   ]
  },
  {
   "cell_type": "code",
   "execution_count": 8,
   "metadata": {},
   "outputs": [
    {
     "name": "stdout",
     "output_type": "stream",
     "text": [
      "True\n"
     ]
    }
   ],
   "source": [
    "#16\n",
    "\n",
    "tpl = (1, 2, 3)\n",
    "sorted = tpl == tuple(sorted(tpl))\n",
    "print(sorted)  \n"
   ]
  },
  {
   "cell_type": "code",
   "execution_count": 4,
   "metadata": {},
   "outputs": [
    {
     "name": "stdout",
     "output_type": "stream",
     "text": [
      "4\n"
     ]
    }
   ],
   "source": [
    "#17\n",
    "\n",
    "a = (1, 2, 3, 4, 5)\n",
    "sub_a = a[1:4]  \n",
    "max_in_sub_a = max(sub_a)\n",
    "print(max_in_sub_a)\n"
   ]
  },
  {
   "cell_type": "code",
   "execution_count": 5,
   "metadata": {},
   "outputs": [
    {
     "name": "stdout",
     "output_type": "stream",
     "text": [
      "2\n"
     ]
    }
   ],
   "source": [
    "#18\n",
    "\n",
    "tpl = (1, 2, 3, 4, 5)\n",
    "sub = tpl[1:4]  \n",
    "min_in_sub = min(sub)\n",
    "print(min_in_sub)  "
   ]
  },
  {
   "cell_type": "code",
   "execution_count": 7,
   "metadata": {},
   "outputs": [
    {
     "name": "stdout",
     "output_type": "stream",
     "text": [
      "(1, 3, 2, 4)\n"
     ]
    }
   ],
   "source": [
    "#19\n",
    "\n",
    "tpl = (1, 2, 3, 2, 4)\n",
    "element = 2\n",
    "new_tpl = tuple(x for i, x in enumerate(tpl) if i != tpl.index(element))\n",
    "print(new_tpl) \n"
   ]
  },
  {
   "cell_type": "code",
   "execution_count": 8,
   "metadata": {},
   "outputs": [
    {
     "name": "stdout",
     "output_type": "stream",
     "text": [
      "((1, 2), (3, 4))\n"
     ]
    }
   ],
   "source": [
    "#20\n",
    "\n",
    "tpl = (1, 2, 3, 4)\n",
    "nest = ((tpl[:2]), (tpl[2:]))\n",
    "print(nest)\n"
   ]
  },
  {
   "cell_type": "code",
   "execution_count": 9,
   "metadata": {},
   "outputs": [
    {
     "name": "stdout",
     "output_type": "stream",
     "text": [
      "(1, 2, 1, 2, 1, 2)\n"
     ]
    }
   ],
   "source": [
    "#21\n",
    "\n",
    "tpl = (1, 2)\n",
    "times = 3\n",
    "repeat = tpl * times\n",
    "print(repeat) \n"
   ]
  },
  {
   "cell_type": "code",
   "execution_count": 10,
   "metadata": {},
   "outputs": [
    {
     "name": "stdout",
     "output_type": "stream",
     "text": [
      "(1, 2, 3, 4, 5, 6, 7, 8, 9, 10)\n"
     ]
    }
   ],
   "source": [
    "##22\n",
    "\n",
    "range_tpl = tuple(range(1, 11))\n",
    "print(range_tpl) \n"
   ]
  },
  {
   "cell_type": "code",
   "execution_count": 11,
   "metadata": {},
   "outputs": [
    {
     "name": "stdout",
     "output_type": "stream",
     "text": [
      "(3, 2, 1)\n"
     ]
    }
   ],
   "source": [
    "#23\n",
    "\n",
    "tpl = (1, 2, 3)\n",
    "reversed = tpl[::-1]\n",
    "print(reversed) \n"
   ]
  },
  {
   "cell_type": "code",
   "execution_count": 12,
   "metadata": {},
   "outputs": [
    {
     "name": "stdout",
     "output_type": "stream",
     "text": [
      "True\n"
     ]
    }
   ],
   "source": [
    "#24\n",
    "\n",
    "tpl = (1, 2, 3, 2, 1)\n",
    "palindrome = tpl == tpl[::-1]\n",
    "print(palindrome)  \n"
   ]
  },
  {
   "cell_type": "code",
   "execution_count": 13,
   "metadata": {},
   "outputs": [
    {
     "name": "stdout",
     "output_type": "stream",
     "text": [
      "(1, 2, 3)\n"
     ]
    }
   ],
   "source": [
    "#25\n",
    "\n",
    "tpl = (1, 2, 2, 3, 1)\n",
    "unique = tuple(dict.fromkeys(tpl))\n",
    "print(unique) \n"
   ]
  },
  {
   "cell_type": "markdown",
   "metadata": {},
   "source": [
    "Set Tasks"
   ]
  },
  {
   "cell_type": "code",
   "execution_count": 14,
   "metadata": {},
   "outputs": [
    {
     "name": "stdout",
     "output_type": "stream",
     "text": [
      "{1, 2, 3, 4, 5}\n"
     ]
    }
   ],
   "source": [
    "#1\n",
    "\n",
    "st1 = {1, 2, 3}\n",
    "st2 = {3, 4, 5}\n",
    "union = st1 | st2\n",
    "print(union)\n"
   ]
  },
  {
   "cell_type": "code",
   "execution_count": 15,
   "metadata": {},
   "outputs": [
    {
     "name": "stdout",
     "output_type": "stream",
     "text": [
      "{3}\n"
     ]
    }
   ],
   "source": [
    "#2\n",
    "\n",
    "st1 = {1, 2, 3}\n",
    "st2 = {3, 4, 5}\n",
    "a = st1 & st2\n",
    "print(a) \n"
   ]
  },
  {
   "cell_type": "code",
   "execution_count": 16,
   "metadata": {},
   "outputs": [
    {
     "name": "stdout",
     "output_type": "stream",
     "text": [
      "{1, 2}\n"
     ]
    }
   ],
   "source": [
    "#3\n",
    "\n",
    "st1 = {1, 2, 3}\n",
    "st2 = {3, 4, 5}\n",
    "dif = st1 - st2\n",
    "print(dif)  \n"
   ]
  },
  {
   "cell_type": "code",
   "execution_count": 17,
   "metadata": {},
   "outputs": [
    {
     "name": "stdout",
     "output_type": "stream",
     "text": [
      "True\n"
     ]
    }
   ],
   "source": [
    "#4\n",
    "\n",
    "st1 = {1, 2}\n",
    "st2 = {1, 2, 3}\n",
    "subset = st1 <= st2\n",
    "print(subset)\n"
   ]
  },
  {
   "cell_type": "code",
   "execution_count": 18,
   "metadata": {},
   "outputs": [
    {
     "name": "stdout",
     "output_type": "stream",
     "text": [
      "True\n"
     ]
    }
   ],
   "source": [
    "#5\n",
    "\n",
    "st1 = {1, 2, 3}\n",
    "element = 2\n",
    "print(element in st1) \n"
   ]
  },
  {
   "cell_type": "code",
   "execution_count": 19,
   "metadata": {},
   "outputs": [
    {
     "name": "stdout",
     "output_type": "stream",
     "text": [
      "3\n"
     ]
    }
   ],
   "source": [
    "#6\n",
    "\n",
    "st1 = {1, 2, 3}\n",
    "print(len(st1))  \n"
   ]
  },
  {
   "cell_type": "code",
   "execution_count": 20,
   "metadata": {},
   "outputs": [
    {
     "name": "stdout",
     "output_type": "stream",
     "text": [
      "{1, 2, 3}\n"
     ]
    }
   ],
   "source": [
    "#7\n",
    "\n",
    "lst = [1, 2, 2, 3]\n",
    "st = set(lst)\n",
    "print(st) \n"
   ]
  },
  {
   "cell_type": "code",
   "execution_count": 21,
   "metadata": {},
   "outputs": [
    {
     "name": "stdout",
     "output_type": "stream",
     "text": [
      "{1, 3}\n"
     ]
    }
   ],
   "source": [
    "#8\n",
    "\n",
    "st1 = {1, 2, 3}\n",
    "st1.discard(2) \n",
    "print(st1) \n"
   ]
  },
  {
   "cell_type": "code",
   "execution_count": 22,
   "metadata": {},
   "outputs": [
    {
     "name": "stdout",
     "output_type": "stream",
     "text": [
      "set()\n"
     ]
    }
   ],
   "source": [
    "#9\n",
    "\n",
    "st1 = {1, 2, 3}\n",
    "st1.clear()\n",
    "print(st1) \n"
   ]
  },
  {
   "cell_type": "code",
   "execution_count": 23,
   "metadata": {},
   "outputs": [
    {
     "name": "stdout",
     "output_type": "stream",
     "text": [
      "True\n"
     ]
    }
   ],
   "source": [
    "#10\n",
    "\n",
    "st1 = set()\n",
    "print(len(st1) == 0)  \n"
   ]
  },
  {
   "cell_type": "code",
   "execution_count": 24,
   "metadata": {},
   "outputs": [
    {
     "name": "stdout",
     "output_type": "stream",
     "text": [
      "{1, 2, 4, 5}\n"
     ]
    }
   ],
   "source": [
    "#11\n",
    "\n",
    "st1 = {1, 2, 3}\n",
    "st2 = {3, 4, 5}\n",
    "diff = st1 ^ st2\n",
    "print(diff) \n"
   ]
  },
  {
   "cell_type": "code",
   "execution_count": 25,
   "metadata": {},
   "outputs": [
    {
     "name": "stdout",
     "output_type": "stream",
     "text": [
      "{1, 2, 3, 4}\n"
     ]
    }
   ],
   "source": [
    "#12\n",
    "\n",
    "st1 = {1, 2, 3}\n",
    "st1.add(4)\n",
    "print(st1) \n"
   ]
  },
  {
   "cell_type": "code",
   "execution_count": 26,
   "metadata": {},
   "outputs": [
    {
     "name": "stdout",
     "output_type": "stream",
     "text": [
      "1 {2, 3}\n"
     ]
    }
   ],
   "source": [
    "#13\n",
    "\n",
    "st1 = {1, 2, 3}\n",
    "element = st1.pop() \n",
    "print(element, st1)\n"
   ]
  },
  {
   "cell_type": "code",
   "execution_count": 27,
   "metadata": {},
   "outputs": [
    {
     "name": "stdout",
     "output_type": "stream",
     "text": [
      "3\n"
     ]
    }
   ],
   "source": [
    "#14\n",
    "\n",
    "st1 = {1, 2, 3}\n",
    "print(max(st1)) \n"
   ]
  },
  {
   "cell_type": "code",
   "execution_count": 28,
   "metadata": {},
   "outputs": [
    {
     "name": "stdout",
     "output_type": "stream",
     "text": [
      "1\n"
     ]
    }
   ],
   "source": [
    "#15\n",
    "\n",
    "st1 = {1, 2, 3}\n",
    "print(min(st1)) \n"
   ]
  },
  {
   "cell_type": "code",
   "execution_count": 29,
   "metadata": {},
   "outputs": [
    {
     "name": "stdout",
     "output_type": "stream",
     "text": [
      "{2, 4}\n"
     ]
    }
   ],
   "source": [
    "#16\n",
    "\n",
    "nums = {1, 2, 3, 4, 5}\n",
    "even = {x for x in nums if x % 2 == 0}\n",
    "print(even) \n"
   ]
  },
  {
   "cell_type": "code",
   "execution_count": 30,
   "metadata": {},
   "outputs": [
    {
     "name": "stdout",
     "output_type": "stream",
     "text": [
      "{1, 3, 5}\n"
     ]
    }
   ],
   "source": [
    "#17\n",
    "\n",
    "nums = {1, 2, 3, 4, 5}\n",
    "odd = {x for x in nums if x % 2 != 0}\n",
    "print(odd) \n"
   ]
  },
  {
   "cell_type": "code",
   "execution_count": 31,
   "metadata": {},
   "outputs": [
    {
     "name": "stdout",
     "output_type": "stream",
     "text": [
      "{1, 2, 3, 4, 5, 6, 7, 8, 9, 10}\n"
     ]
    }
   ],
   "source": [
    "#18\n",
    "\n",
    "range_st = set(range(1, 11))\n",
    "print(range_st)  \n"
   ]
  },
  {
   "cell_type": "code",
   "execution_count": 33,
   "metadata": {},
   "outputs": [
    {
     "name": "stdout",
     "output_type": "stream",
     "text": [
      "{1, 2, 3, 4, 5}\n"
     ]
    }
   ],
   "source": [
    "#19\n",
    "\n",
    "lst1 = [1, 2, 3]\n",
    "lst2 = [3, 4, 5]\n",
    "merge = set(lst1 + lst2)\n",
    "print(merge) \n"
   ]
  },
  {
   "cell_type": "code",
   "execution_count": 58,
   "metadata": {},
   "outputs": [
    {
     "name": "stdout",
     "output_type": "stream",
     "text": [
      "The sets are disjoint\n"
     ]
    }
   ],
   "source": [
    "#20\n",
    "\n",
    "st1 = {1, 2, 3}\n",
    "st2 = {4, 5, 6}\n",
    "common = st1.intersection(st2)\n",
    "\n",
    "if common:\n",
    "    print(\"The sets have common elements:\", common)\n",
    "else:\n",
    "    print(\"The sets are disjoint\")\n",
    "\n"
   ]
  },
  {
   "cell_type": "code",
   "execution_count": 36,
   "metadata": {},
   "outputs": [
    {
     "name": "stdout",
     "output_type": "stream",
     "text": [
      "[1, 2, 3]\n"
     ]
    }
   ],
   "source": [
    "#21\n",
    "\n",
    "lst = [1, 2, 2, 3]\n",
    "d = list(set(lst))\n",
    "print(d) \n"
   ]
  },
  {
   "cell_type": "code",
   "execution_count": 37,
   "metadata": {},
   "outputs": [
    {
     "name": "stdout",
     "output_type": "stream",
     "text": [
      "[1, 2, 3]\n"
     ]
    }
   ],
   "source": [
    "#22\n",
    "\n",
    "lst = [1, 2, 2, 3]\n",
    "a = []\n",
    "[a.append(x) for x in lst if x not in a]\n",
    "print(a) \n"
   ]
  },
  {
   "cell_type": "code",
   "execution_count": 49,
   "metadata": {},
   "outputs": [
    {
     "name": "stdout",
     "output_type": "stream",
     "text": [
      "{frozenset({3, 4}), frozenset({1, 2})}\n"
     ]
    }
   ],
   "source": [
    "#23\n",
    "\n",
    "st = {frozenset({1, 2}), frozenset({3, 4})}\n",
    "print(st)  "
   ]
  },
  {
   "cell_type": "code",
   "execution_count": 39,
   "metadata": {},
   "outputs": [
    {
     "name": "stdout",
     "output_type": "stream",
     "text": [
      "3\n"
     ]
    }
   ],
   "source": [
    "#24\n",
    "\n",
    "lst = [1, 2, 2, 3]\n",
    "c = len(set(lst))\n",
    "print(c) \n"
   ]
  },
  {
   "cell_type": "code",
   "execution_count": 43,
   "metadata": {},
   "outputs": [
    {
     "name": "stdout",
     "output_type": "stream",
     "text": [
      "{6, 71, 8, 27, 43, 76, 46, 47, 15, 84, 20, 22, 23, 26, 59}\n"
     ]
    }
   ],
   "source": [
    "#25\n",
    "\n",
    "import random\n",
    "rand_st = {random.randint(1, 100) for _ in range(15)}\n",
    "print(rand_st) \n"
   ]
  },
  {
   "cell_type": "markdown",
   "metadata": {},
   "source": [
    "Dictionary Tasks"
   ]
  },
  {
   "cell_type": "code",
   "execution_count": 44,
   "metadata": {},
   "outputs": [
    {
     "name": "stdout",
     "output_type": "stream",
     "text": [
      "Not found\n"
     ]
    }
   ],
   "source": [
    "#1\n",
    "\n",
    "dct = {\"a\": 1, \"b\": 2}\n",
    "v = dct.get(\"c\", \"Not found\")  \n",
    "print(v)  \n"
   ]
  },
  {
   "cell_type": "code",
   "execution_count": 45,
   "metadata": {},
   "outputs": [
    {
     "name": "stdout",
     "output_type": "stream",
     "text": [
      "True\n"
     ]
    }
   ],
   "source": [
    "#2\n",
    "\n",
    "dct = {\"a\": 1, \"b\": 2}\n",
    "print(\"a\" in dct) \n",
    "\n"
   ]
  },
  {
   "cell_type": "code",
   "execution_count": 46,
   "metadata": {},
   "outputs": [
    {
     "name": "stdout",
     "output_type": "stream",
     "text": [
      "3\n"
     ]
    }
   ],
   "source": [
    "#3\n",
    "\n",
    "dct = {\"a\": 1, \"b\": 2, \"c\": 3}\n",
    "print(len(dct)) \n"
   ]
  },
  {
   "cell_type": "code",
   "execution_count": 47,
   "metadata": {},
   "outputs": [
    {
     "name": "stdout",
     "output_type": "stream",
     "text": [
      "['a', 'b', 'c']\n"
     ]
    }
   ],
   "source": [
    "#4\n",
    "\n",
    "dct = {\"a\": 1, \"b\": 2, \"c\": 3}\n",
    "keys = list(dct.keys())\n",
    "print(keys) \n"
   ]
  },
  {
   "cell_type": "code",
   "execution_count": 48,
   "metadata": {},
   "outputs": [
    {
     "name": "stdout",
     "output_type": "stream",
     "text": [
      "[1, 2, 3]\n"
     ]
    }
   ],
   "source": [
    "#5\n",
    "\n",
    "dct = {\"a\": 1, \"b\": 2, \"c\": 3}\n",
    "a = list(dct.values())\n",
    "print(a) \n"
   ]
  },
  {
   "cell_type": "code",
   "execution_count": 52,
   "metadata": {},
   "outputs": [
    {
     "name": "stdout",
     "output_type": "stream",
     "text": [
      "{'a': 1, 'b': 3, 'c': 4}\n"
     ]
    }
   ],
   "source": [
    "#6\n",
    "\n",
    "dct1 = {\"a\": 1, \"b\": 2}\n",
    "dct2 = {\"b\": 3, \"c\": 4}\n",
    "merged = {**dct1, **dct2}  \n",
    "print(merged) \n"
   ]
  },
  {
   "cell_type": "code",
   "execution_count": 53,
   "metadata": {},
   "outputs": [
    {
     "name": "stdout",
     "output_type": "stream",
     "text": [
      "{'b': 2}\n"
     ]
    }
   ],
   "source": [
    "#7\n",
    "\n",
    "dct = {\"a\": 1, \"b\": 2}\n",
    "dct.pop(\"a\", None)  \n",
    "print(dct)\n"
   ]
  },
  {
   "cell_type": "code",
   "execution_count": 59,
   "metadata": {},
   "outputs": [
    {
     "name": "stdout",
     "output_type": "stream",
     "text": [
      "{}\n"
     ]
    }
   ],
   "source": [
    "#8\n",
    "\n",
    "dct = {\"a\": 1, \"b\": 2}\n",
    "dct.clear()\n",
    "print(dct)  \n"
   ]
  },
  {
   "cell_type": "code",
   "execution_count": 60,
   "metadata": {},
   "outputs": [
    {
     "name": "stdout",
     "output_type": "stream",
     "text": [
      "True\n"
     ]
    }
   ],
   "source": [
    "#9\n",
    "\n",
    "dct = {}\n",
    "print(len(dct) == 0) \n"
   ]
  },
  {
   "cell_type": "code",
   "execution_count": 65,
   "metadata": {},
   "outputs": [
    {
     "name": "stdout",
     "output_type": "stream",
     "text": [
      "('a', 1)\n"
     ]
    }
   ],
   "source": [
    "10\n",
    "\n",
    "dct = {\"a\": 1, \"b\": 2}\n",
    "if \"a\" in dct:\n",
    "    print((\"a\", dct[\"a\"])) \n",
    "else:\n",
    "    print(\"False\")    \n"
   ]
  },
  {
   "cell_type": "code",
   "execution_count": 66,
   "metadata": {},
   "outputs": [
    {
     "name": "stdout",
     "output_type": "stream",
     "text": [
      "{'a': 5}\n"
     ]
    }
   ],
   "source": [
    "#11\n",
    "\n",
    "dct = {\"a\": 1}\n",
    "dct[\"a\"] = 5 \n",
    "print(dct) \n"
   ]
  },
  {
   "cell_type": "code",
   "execution_count": 68,
   "metadata": {},
   "outputs": [
    {
     "name": "stdout",
     "output_type": "stream",
     "text": [
      "2\n"
     ]
    }
   ],
   "source": [
    "#12\n",
    "\n",
    "dct = {\"a\": 1, \"b\": 2, \"c\": 1}\n",
    "c = list(dct.values()).count(1)\n",
    "print(c)\n"
   ]
  },
  {
   "cell_type": "code",
   "execution_count": 69,
   "metadata": {},
   "outputs": [
    {
     "name": "stdout",
     "output_type": "stream",
     "text": [
      "{1: 'a', 2: 'b'}\n"
     ]
    }
   ],
   "source": [
    "#13\n",
    "\n",
    "dct = {\"a\": 1, \"b\": 2}\n",
    "invert = {v: k for k, v in dct.items()}\n",
    "print(invert)  \n"
   ]
  },
  {
   "cell_type": "code",
   "execution_count": 70,
   "metadata": {},
   "outputs": [
    {
     "name": "stdout",
     "output_type": "stream",
     "text": [
      "['a', 'c']\n"
     ]
    }
   ],
   "source": [
    "#14\n",
    "\n",
    "dct = {\"a\": 1, \"b\": 2, \"c\": 1}\n",
    "keys = [k for k, v in dct.items() if v == 1]\n",
    "print(keys)\n"
   ]
  },
  {
   "cell_type": "code",
   "execution_count": 71,
   "metadata": {},
   "outputs": [
    {
     "name": "stdout",
     "output_type": "stream",
     "text": [
      "{'a': 1, 'b': 2, 'c': 3}\n"
     ]
    }
   ],
   "source": [
    "#15\n",
    "\n",
    "key = [\"a\", \"b\", \"c\"]\n",
    "val = [1, 2, 3]\n",
    "dct = dict(zip(key, val))\n",
    "print(dct) \n"
   ]
  },
  {
   "cell_type": "code",
   "execution_count": 74,
   "metadata": {},
   "outputs": [
    {
     "name": "stdout",
     "output_type": "stream",
     "text": [
      "True\n"
     ]
    }
   ],
   "source": [
    "#16\n",
    "\n",
    "dct = {\"a\": {\"c\": 1}, \"b\": 2}\n",
    "c = any(isinstance(v, dict) for v in dct.values())\n",
    "print(c)  \n"
   ]
  },
  {
   "cell_type": "code",
   "execution_count": 75,
   "metadata": {},
   "outputs": [
    {
     "name": "stdout",
     "output_type": "stream",
     "text": [
      "1\n"
     ]
    }
   ],
   "source": [
    "#17\n",
    "\n",
    "dct = {\"a\": {\"c\": 1}}\n",
    "val = dct.get(\"a\", {}).get(\"c\", None)\n",
    "print(val)  \n"
   ]
  },
  {
   "cell_type": "code",
   "execution_count": 1,
   "metadata": {},
   "outputs": [
    {
     "name": "stdout",
     "output_type": "stream",
     "text": [
      "default\n"
     ]
    }
   ],
   "source": [
    "#18\n",
    "\n",
    "from collections import defaultdict\n",
    "default_dict = defaultdict(lambda: \"default\")\n",
    "print(default_dict[\"missing\"])\n"
   ]
  },
  {
   "cell_type": "code",
   "execution_count": 76,
   "metadata": {},
   "outputs": [
    {
     "name": "stdout",
     "output_type": "stream",
     "text": [
      "2\n"
     ]
    }
   ],
   "source": [
    "#19\n",
    "\n",
    "dct = {\"a\": 1, \"b\": 2, \"c\": 1}\n",
    "unique = len(set(dct.values()))\n",
    "print(unique) \n"
   ]
  },
  {
   "cell_type": "code",
   "execution_count": 1,
   "metadata": {},
   "outputs": [
    {
     "name": "stdout",
     "output_type": "stream",
     "text": [
      "{'a': 1, 'b': 2, 'c': 3}\n"
     ]
    }
   ],
   "source": [
    "#20\n",
    "\n",
    "dct = {\"b\": 2, \"a\": 1, \"c\": 3}\n",
    "sort = dict(sorted(dct.items()))\n",
    "print(sort)\n"
   ]
  },
  {
   "cell_type": "code",
   "execution_count": 2,
   "metadata": {},
   "outputs": [
    {
     "name": "stdout",
     "output_type": "stream",
     "text": [
      "{'b': 1, 'c': 2, 'a': 3}\n"
     ]
    }
   ],
   "source": [
    "#21\n",
    "\n",
    "dct = {\"a\": 3, \"b\": 1, \"c\": 2}\n",
    "sort = dict(sorted(dct.items(), key=lambda item: item[1]))\n",
    "print(sort)\n"
   ]
  },
  {
   "cell_type": "code",
   "execution_count": 3,
   "metadata": {},
   "outputs": [
    {
     "name": "stdout",
     "output_type": "stream",
     "text": [
      "{'b': 2, 'c': 3}\n"
     ]
    }
   ],
   "source": [
    "#22\n",
    "\n",
    "dct = {\"a\": 1, \"b\": 2, \"c\": 3}\n",
    "filter = {k: v for k, v in dct.items() if v > 1}\n",
    "print(filter) \n"
   ]
  },
  {
   "cell_type": "code",
   "execution_count": 4,
   "metadata": {},
   "outputs": [
    {
     "name": "stdout",
     "output_type": "stream",
     "text": [
      "{'b'}\n"
     ]
    }
   ],
   "source": [
    "#23\n",
    "\n",
    "dct1 = {\"a\": 1, \"b\": 2}\n",
    "dct2 = {\"b\": 3, \"c\": 4}\n",
    "common = dct1.keys() & dct2.keys()\n",
    "print(common) \n"
   ]
  },
  {
   "cell_type": "code",
   "execution_count": 5,
   "metadata": {},
   "outputs": [
    {
     "name": "stdout",
     "output_type": "stream",
     "text": [
      "{'a': 1, 'b': 2}\n"
     ]
    }
   ],
   "source": [
    "#24\n",
    "\n",
    "tple_val = ((\"a\", 1), (\"b\", 2))\n",
    "dct = dict(tple_val)\n",
    "print(dct)  \n"
   ]
  },
  {
   "cell_type": "code",
   "execution_count": 6,
   "metadata": {},
   "outputs": [
    {
     "name": "stdout",
     "output_type": "stream",
     "text": [
      "('a', 1)\n"
     ]
    }
   ],
   "source": [
    "#25\n",
    "\n",
    "dct = {\"a\": 1, \"b\": 2}\n",
    "first = next(iter(dct.items()))\n",
    "print(first) \n"
   ]
  }
 ],
 "metadata": {
  "kernelspec": {
   "display_name": "Python 3",
   "language": "python",
   "name": "python3"
  },
  "language_info": {
   "codemirror_mode": {
    "name": "ipython",
    "version": 3
   },
   "file_extension": ".py",
   "mimetype": "text/x-python",
   "name": "python",
   "nbconvert_exporter": "python",
   "pygments_lexer": "ipython3",
   "version": "3.13.0"
  }
 },
 "nbformat": 4,
 "nbformat_minor": 2
}
